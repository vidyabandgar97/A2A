{
  "nbformat": 4,
  "nbformat_minor": 0,
  "metadata": {
    "colab": {
      "name": "cow_13.07.ipynb",
      "provenance": [],
      "authorship_tag": "ABX9TyOEDjXqDKt8FCmCI/NzdRxY",
      "include_colab_link": true
    },
    "kernelspec": {
      "name": "python3",
      "display_name": "Python 3"
    },
    "language_info": {
      "name": "python"
    }
  },
  "cells": [
    {
      "cell_type": "markdown",
      "metadata": {
        "id": "view-in-github",
        "colab_type": "text"
      },
      "source": [
        "<a href=\"https://colab.research.google.com/github/vidyabandgar97/A2A/blob/main/cow_13_07.ipynb\" target=\"_parent\"><img src=\"https://colab.research.google.com/assets/colab-badge.svg\" alt=\"Open In Colab\"/></a>"
      ]
    },
    {
      "cell_type": "code",
      "metadata": {
        "colab": {
          "base_uri": "https://localhost:8080/"
        },
        "id": "iviLbuZxKMPU",
        "outputId": "4021026e-0fd9-4cf8-a76c-0b0838fb60f8"
      },
      "source": [
        "%cd ..\n",
        "from google.colab import drive\n",
        "drive.mount('/content/gdrive')"
      ],
      "execution_count": 1,
      "outputs": [
        {
          "output_type": "stream",
          "text": [
            "/\n",
            "Mounted at /content/gdrive\n"
          ],
          "name": "stdout"
        }
      ]
    },
    {
      "cell_type": "code",
      "metadata": {
        "colab": {
          "base_uri": "https://localhost:8080/"
        },
        "id": "JgcqzZZ6Kaex",
        "outputId": "0eacb2f5-c925-4620-ef5e-54dc41c2ef3a"
      },
      "source": [
        "!pip install pycocotools"
      ],
      "execution_count": 2,
      "outputs": [
        {
          "output_type": "stream",
          "text": [
            "Requirement already satisfied: pycocotools in /usr/local/lib/python3.7/dist-packages (2.0.2)\n",
            "Requirement already satisfied: matplotlib>=2.1.0 in /usr/local/lib/python3.7/dist-packages (from pycocotools) (3.2.2)\n",
            "Requirement already satisfied: setuptools>=18.0 in /usr/local/lib/python3.7/dist-packages (from pycocotools) (57.0.0)\n",
            "Requirement already satisfied: cython>=0.27.3 in /usr/local/lib/python3.7/dist-packages (from pycocotools) (0.29.23)\n",
            "Requirement already satisfied: python-dateutil>=2.1 in /usr/local/lib/python3.7/dist-packages (from matplotlib>=2.1.0->pycocotools) (2.8.1)\n",
            "Requirement already satisfied: cycler>=0.10 in /usr/local/lib/python3.7/dist-packages (from matplotlib>=2.1.0->pycocotools) (0.10.0)\n",
            "Requirement already satisfied: pyparsing!=2.0.4,!=2.1.2,!=2.1.6,>=2.0.1 in /usr/local/lib/python3.7/dist-packages (from matplotlib>=2.1.0->pycocotools) (2.4.7)\n",
            "Requirement already satisfied: numpy>=1.11 in /usr/local/lib/python3.7/dist-packages (from matplotlib>=2.1.0->pycocotools) (1.19.5)\n",
            "Requirement already satisfied: kiwisolver>=1.0.1 in /usr/local/lib/python3.7/dist-packages (from matplotlib>=2.1.0->pycocotools) (1.3.1)\n",
            "Requirement already satisfied: six>=1.5 in /usr/local/lib/python3.7/dist-packages (from python-dateutil>=2.1->matplotlib>=2.1.0->pycocotools) (1.15.0)\n"
          ],
          "name": "stdout"
        }
      ]
    },
    {
      "cell_type": "code",
      "metadata": {
        "id": "iVIyqqVrKalj"
      },
      "source": [
        "from pycocotools.coco import COCO\n",
        "import requests"
      ],
      "execution_count": 3,
      "outputs": []
    },
    {
      "cell_type": "code",
      "metadata": {
        "colab": {
          "base_uri": "https://localhost:8080/"
        },
        "id": "Tix0Cb5rKaoT",
        "outputId": "660f6c94-a941-4d3a-98f5-724de0fbdce4"
      },
      "source": [
        "%cd /content/gdrive/MyDrive/annotation\n",
        "!wget http://images.cocodataset.org/annotations/annotations_trainval2017.zip"
      ],
      "execution_count": 4,
      "outputs": [
        {
          "output_type": "stream",
          "text": [
            "/content/gdrive/MyDrive/annotation\n",
            "--2021-07-13 04:41:08--  http://images.cocodataset.org/annotations/annotations_trainval2017.zip\n",
            "Resolving images.cocodataset.org (images.cocodataset.org)... 52.217.194.113\n",
            "Connecting to images.cocodataset.org (images.cocodataset.org)|52.217.194.113|:80... connected.\n",
            "HTTP request sent, awaiting response... 200 OK\n",
            "Length: 252907541 (241M) [application/zip]\n",
            "Saving to: ‘annotations_trainval2017.zip’\n",
            "\n",
            "annotations_trainva 100%[===================>] 241.19M  47.8MB/s    in 5.1s    \n",
            "\n",
            "2021-07-13 04:41:13 (47.1 MB/s) - ‘annotations_trainval2017.zip’ saved [252907541/252907541]\n",
            "\n"
          ],
          "name": "stdout"
        }
      ]
    },
    {
      "cell_type": "code",
      "metadata": {
        "colab": {
          "base_uri": "https://localhost:8080/"
        },
        "id": "iqR61jsuKara",
        "outputId": "1c59a82b-5db1-4b5e-f4f0-70c5d0603944"
      },
      "source": [
        "!unzip /content/gdrive/MyDrive/annotation/annotations_trainval2017.zip"
      ],
      "execution_count": 5,
      "outputs": [
        {
          "output_type": "stream",
          "text": [
            "Archive:  /content/gdrive/MyDrive/annotation/annotations_trainval2017.zip\n",
            "  inflating: annotations/instances_train2017.json  \n",
            "  inflating: annotations/instances_val2017.json  \n",
            "  inflating: annotations/captions_train2017.json  \n",
            "  inflating: annotations/captions_val2017.json  \n",
            "  inflating: annotations/person_keypoints_train2017.json  \n",
            "  inflating: annotations/person_keypoints_val2017.json  \n"
          ],
          "name": "stdout"
        }
      ]
    },
    {
      "cell_type": "code",
      "metadata": {
        "colab": {
          "base_uri": "https://localhost:8080/"
        },
        "id": "qnUo_XOTLLMl",
        "outputId": "c9c19f53-94a6-4e3c-eff3-fb8b2e4e45c1"
      },
      "source": [
        "\n",
        "from pycocotools.coco import COCO\n",
        "import requests\n",
        "\n",
        "\n",
        "coco = COCO('/content/gdrive/MyDrive/annotation/annotations/instances_val2017.json')\n",
        "catIds = coco.getCatIds(catNms=['cow'])\n",
        "imgIds = coco.getImgIds(catIds=catIds)\n",
        "images = coco.loadImgs(imgIds)\n",
        "annIds = coco.getAnnIds(catIds = catIds,iscrowd=0)\n",
        "annot = coco.loadAnns(annIds)"
      ],
      "execution_count": 6,
      "outputs": [
        {
          "output_type": "stream",
          "text": [
            "loading annotations into memory...\n",
            "Done (t=0.83s)\n",
            "creating index...\n",
            "index created!\n"
          ],
          "name": "stdout"
        }
      ]
    },
    {
      "cell_type": "code",
      "metadata": {
        "colab": {
          "base_uri": "https://localhost:8080/"
        },
        "id": "_eun14igLLPZ",
        "outputId": "bb4cbfcf-e26d-424a-c953-ec2984b15c3b"
      },
      "source": [
        "\n",
        "!mkdir /content/gdrive/MyDrive/annotation/images/\n",
        "ann_file = {}\n",
        "ann_file['images'] = []\n",
        "ann_file['annotations'] = []\n",
        "i = 1\n",
        "count = 500\n",
        "for im in images[:count]:\n",
        "    img_data = requests.get(im['coco_url']).content\n",
        "    with open('/content/gdrive/MyDrive/annotation/images/' + im['file_name'], 'wb') as handler:\n",
        "        handler.write(img_data)\n",
        "    ann_file['images'].append(im)\n",
        "    for an in annot:\n",
        "      if an['image_id'] == im['id']:\n",
        "        ann_file['annotations'].append(an)\n",
        "        print('{} downloaded..'.format(i))\n",
        "        i +=1"
      ],
      "execution_count": 7,
      "outputs": [
        {
          "output_type": "stream",
          "text": [
            "1 downloaded..\n",
            "2 downloaded..\n",
            "3 downloaded..\n",
            "4 downloaded..\n",
            "5 downloaded..\n",
            "6 downloaded..\n",
            "7 downloaded..\n",
            "8 downloaded..\n",
            "9 downloaded..\n",
            "10 downloaded..\n",
            "11 downloaded..\n",
            "12 downloaded..\n",
            "13 downloaded..\n",
            "14 downloaded..\n",
            "15 downloaded..\n",
            "16 downloaded..\n",
            "17 downloaded..\n",
            "18 downloaded..\n",
            "19 downloaded..\n",
            "20 downloaded..\n",
            "21 downloaded..\n",
            "22 downloaded..\n",
            "23 downloaded..\n",
            "24 downloaded..\n",
            "25 downloaded..\n",
            "26 downloaded..\n",
            "27 downloaded..\n",
            "28 downloaded..\n",
            "29 downloaded..\n",
            "30 downloaded..\n",
            "31 downloaded..\n",
            "32 downloaded..\n",
            "33 downloaded..\n",
            "34 downloaded..\n",
            "35 downloaded..\n",
            "36 downloaded..\n",
            "37 downloaded..\n",
            "38 downloaded..\n",
            "39 downloaded..\n",
            "40 downloaded..\n",
            "41 downloaded..\n",
            "42 downloaded..\n",
            "43 downloaded..\n",
            "44 downloaded..\n",
            "45 downloaded..\n",
            "46 downloaded..\n",
            "47 downloaded..\n",
            "48 downloaded..\n",
            "49 downloaded..\n",
            "50 downloaded..\n",
            "51 downloaded..\n",
            "52 downloaded..\n",
            "53 downloaded..\n",
            "54 downloaded..\n",
            "55 downloaded..\n",
            "56 downloaded..\n",
            "57 downloaded..\n",
            "58 downloaded..\n",
            "59 downloaded..\n",
            "60 downloaded..\n",
            "61 downloaded..\n",
            "62 downloaded..\n",
            "63 downloaded..\n",
            "64 downloaded..\n",
            "65 downloaded..\n",
            "66 downloaded..\n",
            "67 downloaded..\n",
            "68 downloaded..\n",
            "69 downloaded..\n",
            "70 downloaded..\n",
            "71 downloaded..\n",
            "72 downloaded..\n",
            "73 downloaded..\n",
            "74 downloaded..\n",
            "75 downloaded..\n",
            "76 downloaded..\n",
            "77 downloaded..\n",
            "78 downloaded..\n",
            "79 downloaded..\n",
            "80 downloaded..\n",
            "81 downloaded..\n",
            "82 downloaded..\n",
            "83 downloaded..\n",
            "84 downloaded..\n",
            "85 downloaded..\n",
            "86 downloaded..\n",
            "87 downloaded..\n",
            "88 downloaded..\n",
            "89 downloaded..\n",
            "90 downloaded..\n",
            "91 downloaded..\n",
            "92 downloaded..\n",
            "93 downloaded..\n",
            "94 downloaded..\n",
            "95 downloaded..\n",
            "96 downloaded..\n",
            "97 downloaded..\n",
            "98 downloaded..\n",
            "99 downloaded..\n",
            "100 downloaded..\n",
            "101 downloaded..\n",
            "102 downloaded..\n",
            "103 downloaded..\n",
            "104 downloaded..\n",
            "105 downloaded..\n",
            "106 downloaded..\n",
            "107 downloaded..\n",
            "108 downloaded..\n",
            "109 downloaded..\n",
            "110 downloaded..\n",
            "111 downloaded..\n",
            "112 downloaded..\n",
            "113 downloaded..\n",
            "114 downloaded..\n",
            "115 downloaded..\n",
            "116 downloaded..\n",
            "117 downloaded..\n",
            "118 downloaded..\n",
            "119 downloaded..\n",
            "120 downloaded..\n",
            "121 downloaded..\n",
            "122 downloaded..\n",
            "123 downloaded..\n",
            "124 downloaded..\n",
            "125 downloaded..\n",
            "126 downloaded..\n",
            "127 downloaded..\n",
            "128 downloaded..\n",
            "129 downloaded..\n",
            "130 downloaded..\n",
            "131 downloaded..\n",
            "132 downloaded..\n",
            "133 downloaded..\n",
            "134 downloaded..\n",
            "135 downloaded..\n",
            "136 downloaded..\n",
            "137 downloaded..\n",
            "138 downloaded..\n",
            "139 downloaded..\n",
            "140 downloaded..\n",
            "141 downloaded..\n",
            "142 downloaded..\n",
            "143 downloaded..\n",
            "144 downloaded..\n",
            "145 downloaded..\n",
            "146 downloaded..\n",
            "147 downloaded..\n",
            "148 downloaded..\n",
            "149 downloaded..\n",
            "150 downloaded..\n",
            "151 downloaded..\n",
            "152 downloaded..\n",
            "153 downloaded..\n",
            "154 downloaded..\n",
            "155 downloaded..\n",
            "156 downloaded..\n",
            "157 downloaded..\n",
            "158 downloaded..\n",
            "159 downloaded..\n",
            "160 downloaded..\n",
            "161 downloaded..\n",
            "162 downloaded..\n",
            "163 downloaded..\n",
            "164 downloaded..\n",
            "165 downloaded..\n",
            "166 downloaded..\n",
            "167 downloaded..\n",
            "168 downloaded..\n",
            "169 downloaded..\n",
            "170 downloaded..\n",
            "171 downloaded..\n",
            "172 downloaded..\n",
            "173 downloaded..\n",
            "174 downloaded..\n",
            "175 downloaded..\n",
            "176 downloaded..\n",
            "177 downloaded..\n",
            "178 downloaded..\n",
            "179 downloaded..\n",
            "180 downloaded..\n",
            "181 downloaded..\n",
            "182 downloaded..\n",
            "183 downloaded..\n",
            "184 downloaded..\n",
            "185 downloaded..\n",
            "186 downloaded..\n",
            "187 downloaded..\n",
            "188 downloaded..\n",
            "189 downloaded..\n",
            "190 downloaded..\n",
            "191 downloaded..\n",
            "192 downloaded..\n",
            "193 downloaded..\n",
            "194 downloaded..\n",
            "195 downloaded..\n",
            "196 downloaded..\n",
            "197 downloaded..\n",
            "198 downloaded..\n",
            "199 downloaded..\n",
            "200 downloaded..\n",
            "201 downloaded..\n",
            "202 downloaded..\n",
            "203 downloaded..\n",
            "204 downloaded..\n",
            "205 downloaded..\n",
            "206 downloaded..\n",
            "207 downloaded..\n",
            "208 downloaded..\n",
            "209 downloaded..\n",
            "210 downloaded..\n",
            "211 downloaded..\n",
            "212 downloaded..\n",
            "213 downloaded..\n",
            "214 downloaded..\n",
            "215 downloaded..\n",
            "216 downloaded..\n",
            "217 downloaded..\n",
            "218 downloaded..\n",
            "219 downloaded..\n",
            "220 downloaded..\n",
            "221 downloaded..\n",
            "222 downloaded..\n",
            "223 downloaded..\n",
            "224 downloaded..\n",
            "225 downloaded..\n",
            "226 downloaded..\n",
            "227 downloaded..\n",
            "228 downloaded..\n",
            "229 downloaded..\n",
            "230 downloaded..\n",
            "231 downloaded..\n",
            "232 downloaded..\n",
            "233 downloaded..\n",
            "234 downloaded..\n",
            "235 downloaded..\n",
            "236 downloaded..\n",
            "237 downloaded..\n",
            "238 downloaded..\n",
            "239 downloaded..\n",
            "240 downloaded..\n",
            "241 downloaded..\n",
            "242 downloaded..\n",
            "243 downloaded..\n",
            "244 downloaded..\n",
            "245 downloaded..\n",
            "246 downloaded..\n",
            "247 downloaded..\n",
            "248 downloaded..\n",
            "249 downloaded..\n",
            "250 downloaded..\n",
            "251 downloaded..\n",
            "252 downloaded..\n",
            "253 downloaded..\n",
            "254 downloaded..\n",
            "255 downloaded..\n",
            "256 downloaded..\n",
            "257 downloaded..\n",
            "258 downloaded..\n",
            "259 downloaded..\n",
            "260 downloaded..\n",
            "261 downloaded..\n",
            "262 downloaded..\n",
            "263 downloaded..\n",
            "264 downloaded..\n",
            "265 downloaded..\n",
            "266 downloaded..\n",
            "267 downloaded..\n",
            "268 downloaded..\n",
            "269 downloaded..\n",
            "270 downloaded..\n",
            "271 downloaded..\n",
            "272 downloaded..\n",
            "273 downloaded..\n",
            "274 downloaded..\n",
            "275 downloaded..\n",
            "276 downloaded..\n",
            "277 downloaded..\n",
            "278 downloaded..\n",
            "279 downloaded..\n",
            "280 downloaded..\n",
            "281 downloaded..\n",
            "282 downloaded..\n",
            "283 downloaded..\n",
            "284 downloaded..\n",
            "285 downloaded..\n",
            "286 downloaded..\n",
            "287 downloaded..\n",
            "288 downloaded..\n",
            "289 downloaded..\n",
            "290 downloaded..\n",
            "291 downloaded..\n",
            "292 downloaded..\n",
            "293 downloaded..\n",
            "294 downloaded..\n",
            "295 downloaded..\n",
            "296 downloaded..\n",
            "297 downloaded..\n",
            "298 downloaded..\n",
            "299 downloaded..\n",
            "300 downloaded..\n",
            "301 downloaded..\n",
            "302 downloaded..\n",
            "303 downloaded..\n",
            "304 downloaded..\n",
            "305 downloaded..\n",
            "306 downloaded..\n",
            "307 downloaded..\n",
            "308 downloaded..\n",
            "309 downloaded..\n",
            "310 downloaded..\n",
            "311 downloaded..\n",
            "312 downloaded..\n",
            "313 downloaded..\n",
            "314 downloaded..\n",
            "315 downloaded..\n",
            "316 downloaded..\n",
            "317 downloaded..\n",
            "318 downloaded..\n",
            "319 downloaded..\n",
            "320 downloaded..\n",
            "321 downloaded..\n",
            "322 downloaded..\n",
            "323 downloaded..\n",
            "324 downloaded..\n",
            "325 downloaded..\n",
            "326 downloaded..\n",
            "327 downloaded..\n",
            "328 downloaded..\n",
            "329 downloaded..\n",
            "330 downloaded..\n",
            "331 downloaded..\n",
            "332 downloaded..\n",
            "333 downloaded..\n",
            "334 downloaded..\n",
            "335 downloaded..\n",
            "336 downloaded..\n",
            "337 downloaded..\n",
            "338 downloaded..\n",
            "339 downloaded..\n",
            "340 downloaded..\n",
            "341 downloaded..\n",
            "342 downloaded..\n",
            "343 downloaded..\n",
            "344 downloaded..\n",
            "345 downloaded..\n",
            "346 downloaded..\n",
            "347 downloaded..\n",
            "348 downloaded..\n",
            "349 downloaded..\n",
            "350 downloaded..\n",
            "351 downloaded..\n",
            "352 downloaded..\n",
            "353 downloaded..\n",
            "354 downloaded..\n",
            "355 downloaded..\n",
            "356 downloaded..\n",
            "357 downloaded..\n",
            "358 downloaded..\n",
            "359 downloaded..\n",
            "360 downloaded..\n",
            "361 downloaded..\n",
            "362 downloaded..\n",
            "363 downloaded..\n",
            "364 downloaded..\n",
            "365 downloaded..\n",
            "366 downloaded..\n",
            "367 downloaded..\n",
            "368 downloaded..\n",
            "369 downloaded..\n",
            "370 downloaded..\n",
            "371 downloaded..\n",
            "372 downloaded..\n"
          ],
          "name": "stdout"
        }
      ]
    },
    {
      "cell_type": "code",
      "metadata": {
        "id": "uv3V2loILLVl"
      },
      "source": [
        "\n",
        "# Create json file\n",
        "import json \n",
        "\n",
        "with open('cow.json','w') as f:\n",
        "  json.dump(ann_file,f)"
      ],
      "execution_count": 13,
      "outputs": []
    },
    {
      "cell_type": "code",
      "metadata": {
        "id": "z6wJAp6cKauo"
      },
      "source": [
        "#!mkdir /content/drive/MyDrive/cow_COCO\n",
        "!cp -r /content/gdrive/MyDrive/annotation/images/ /content/gdrive/MyDrive/cow_COCO/Images/\n",
        "!cp /content/gdrive/MyDrive/cow.json /content/gdrive/MyDrive/cow_COCO/"
      ],
      "execution_count": 17,
      "outputs": []
    },
    {
      "cell_type": "code",
      "metadata": {
        "colab": {
          "base_uri": "https://localhost:8080/"
        },
        "id": "7SN0R04TKRvv",
        "outputId": "06c7da05-f2c5-4eba-b6c2-5b59fbaf7e77"
      },
      "source": [
        "\n",
        "import os\n",
        "list = os.listdir('/content/gdrive/MyDrive/annotation/images')\n",
        "number_files = len(list)\n",
        "print('Total images in dataset : ' + str(number_files))"
      ],
      "execution_count": 18,
      "outputs": [
        {
          "output_type": "stream",
          "text": [
            "Total images in dataset : 87\n"
          ],
          "name": "stdout"
        }
      ]
    }
  ]
}