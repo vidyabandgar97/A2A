{
  "nbformat": 4,
  "nbformat_minor": 0,
  "metadata": {
    "colab": {
      "name": "cow_13.07.ipynb",
      "provenance": [],
      "authorship_tag": "ABX9TyNi4JRilfTU/EIL8rT9HN0y",
      "include_colab_link": true
    },
    "kernelspec": {
      "name": "python3",
      "display_name": "Python 3"
    },
    "language_info": {
      "name": "python"
    }
  },
  "cells": [
    {
      "cell_type": "markdown",
      "metadata": {
        "id": "view-in-github",
        "colab_type": "text"
      },
      "source": [
        "<a href=\"https://colab.research.google.com/github/vidyabandgar97/A2A/blob/main/cow_13_07.ipynb\" target=\"_parent\"><img src=\"https://colab.research.google.com/assets/colab-badge.svg\" alt=\"Open In Colab\"/></a>"
      ]
    },
    {
      "cell_type": "code",
      "metadata": {
        "colab": {
          "base_uri": "https://localhost:8080/"
        },
        "id": "iviLbuZxKMPU",
        "outputId": "4021026e-0fd9-4cf8-a76c-0b0838fb60f8"
      },
      "source": [
        "%cd ..\n",
        "from google.colab import drive\n",
        "drive.mount('/content/gdrive')"
      ],
      "execution_count": 1,
      "outputs": [
        {
          "output_type": "stream",
          "text": [
            "/\n",
            "Mounted at /content/gdrive\n"
          ],
          "name": "stdout"
        }
      ]
    },
    {
      "cell_type": "code",
      "metadata": {
        "colab": {
          "base_uri": "https://localhost:8080/"
        },
        "id": "JgcqzZZ6Kaex",
        "outputId": "0eacb2f5-c925-4620-ef5e-54dc41c2ef3a"
      },
      "source": [
        "!pip install pycocotools"
      ],
      "execution_count": 2,
      "outputs": [
        {
          "output_type": "stream",
          "text": [
            "Requirement already satisfied: pycocotools in /usr/local/lib/python3.7/dist-packages (2.0.2)\n",
            "Requirement already satisfied: matplotlib>=2.1.0 in /usr/local/lib/python3.7/dist-packages (from pycocotools) (3.2.2)\n",
            "Requirement already satisfied: setuptools>=18.0 in /usr/local/lib/python3.7/dist-packages (from pycocotools) (57.0.0)\n",
            "Requirement already satisfied: cython>=0.27.3 in /usr/local/lib/python3.7/dist-packages (from pycocotools) (0.29.23)\n",
            "Requirement already satisfied: python-dateutil>=2.1 in /usr/local/lib/python3.7/dist-packages (from matplotlib>=2.1.0->pycocotools) (2.8.1)\n",
            "Requirement already satisfied: cycler>=0.10 in /usr/local/lib/python3.7/dist-packages (from matplotlib>=2.1.0->pycocotools) (0.10.0)\n",
            "Requirement already satisfied: pyparsing!=2.0.4,!=2.1.2,!=2.1.6,>=2.0.1 in /usr/local/lib/python3.7/dist-packages (from matplotlib>=2.1.0->pycocotools) (2.4.7)\n",
            "Requirement already satisfied: numpy>=1.11 in /usr/local/lib/python3.7/dist-packages (from matplotlib>=2.1.0->pycocotools) (1.19.5)\n",
            "Requirement already satisfied: kiwisolver>=1.0.1 in /usr/local/lib/python3.7/dist-packages (from matplotlib>=2.1.0->pycocotools) (1.3.1)\n",
            "Requirement already satisfied: six>=1.5 in /usr/local/lib/python3.7/dist-packages (from python-dateutil>=2.1->matplotlib>=2.1.0->pycocotools) (1.15.0)\n"
          ],
          "name": "stdout"
        }
      ]
    },
    {
      "cell_type": "code",
      "metadata": {
        "id": "iVIyqqVrKalj"
      },
      "source": [
        "from pycocotools.coco import COCO\n",
        "import requests"
      ],
      "execution_count": 3,
      "outputs": []
    },
    {
      "cell_type": "code",
      "metadata": {
        "colab": {
          "base_uri": "https://localhost:8080/"
        },
        "id": "Tix0Cb5rKaoT",
        "outputId": "660f6c94-a941-4d3a-98f5-724de0fbdce4"
      },
      "source": [
        "%cd /content/gdrive/MyDrive/annotation\n",
        "!wget http://images.cocodataset.org/annotations/annotations_trainval2017.zip"
      ],
      "execution_count": 4,
      "outputs": [
        {
          "output_type": "stream",
          "text": [
            "/content/gdrive/MyDrive/annotation\n",
            "--2021-07-13 04:41:08--  http://images.cocodataset.org/annotations/annotations_trainval2017.zip\n",
            "Resolving images.cocodataset.org (images.cocodataset.org)... 52.217.194.113\n",
            "Connecting to images.cocodataset.org (images.cocodataset.org)|52.217.194.113|:80... connected.\n",
            "HTTP request sent, awaiting response... 200 OK\n",
            "Length: 252907541 (241M) [application/zip]\n",
            "Saving to: ‘annotations_trainval2017.zip’\n",
            "\n",
            "annotations_trainva 100%[===================>] 241.19M  47.8MB/s    in 5.1s    \n",
            "\n",
            "2021-07-13 04:41:13 (47.1 MB/s) - ‘annotations_trainval2017.zip’ saved [252907541/252907541]\n",
            "\n"
          ],
          "name": "stdout"
        }
      ]
    },
    {
      "cell_type": "code",
      "metadata": {
        "colab": {
          "base_uri": "https://localhost:8080/"
        },
        "id": "iqR61jsuKara",
        "outputId": "1c59a82b-5db1-4b5e-f4f0-70c5d0603944"
      },
      "source": [
        "!unzip /content/gdrive/MyDrive/annotation/annotations_trainval2017.zip"
      ],
      "execution_count": 5,
      "outputs": [
        {
          "output_type": "stream",
          "text": [
            "Archive:  /content/gdrive/MyDrive/annotation/annotations_trainval2017.zip\n",
            "  inflating: annotations/instances_train2017.json  \n",
            "  inflating: annotations/instances_val2017.json  \n",
            "  inflating: annotations/captions_train2017.json  \n",
            "  inflating: annotations/captions_val2017.json  \n",
            "  inflating: annotations/person_keypoints_train2017.json  \n",
            "  inflating: annotations/person_keypoints_val2017.json  \n"
          ],
          "name": "stdout"
        }
      ]
    },
    {
      "cell_type": "code",
      "metadata": {
        "colab": {
          "base_uri": "https://localhost:8080/"
        },
        "id": "qnUo_XOTLLMl",
        "outputId": "c9c19f53-94a6-4e3c-eff3-fb8b2e4e45c1"
      },
      "source": [
        "\n",
        "from pycocotools.coco import COCO\n",
        "import requests\n",
        "\n",
        "\n",
        "coco = COCO('/content/gdrive/MyDrive/annotation/annotations/instances_val2017.json')\n",
        "catIds = coco.getCatIds(catNms=['cow'])\n",
        "imgIds = coco.getImgIds(catIds=catIds)\n",
        "images = coco.loadImgs(imgIds)\n",
        "annIds = coco.getAnnIds(catIds = catIds,iscrowd=0)\n",
        "annot = coco.loadAnns(annIds)"
      ],
      "execution_count": 6,
      "outputs": [
        {
          "output_type": "stream",
          "text": [
            "loading annotations into memory...\n",
            "Done (t=0.83s)\n",
            "creating index...\n",
            "index created!\n"
          ],
          "name": "stdout"
        }
      ]
    },
    {
      "cell_type": "code",
      "metadata": {
        "colab": {
          "base_uri": "https://localhost:8080/"
        },
        "id": "_eun14igLLPZ",
        "outputId": "bb4cbfcf-e26d-424a-c953-ec2984b15c3b"
      },
      "source": [
        "\n",
        "!mkdir /content/gdrive/MyDrive/annotation/images/\n",
        "ann_file = {}\n",
        "ann_file['images'] = []\n",
        "ann_file['annotations'] = []\n",
        "i = 1\n",
        "count = 500\n",
        "for im in images[:count]:\n",
        "    img_data = requests.get(im['coco_url']).content\n",
        "    with open('/content/gdrive/MyDrive/annotation/images/' + im['file_name'], 'wb') as handler:\n",
        "        handler.write(img_data)\n",
        "    ann_file['images'].append(im)\n",
        "    for an in annot:\n",
        "      if an['image_id'] == im['id']:\n",
        "        ann_file['annotations'].append(an)\n",
        "        print('{} downloaded..'.format(i))\n",
        "        i +=1"
      ],
      "execution_count": 7,
      "outputs": [
        {
          "output_type": "stream",
          "text": [
            "1 downloaded..\n",
            "2 downloaded..\n",
            "3 downloaded..\n",
            "4 downloaded..\n",
            "5 downloaded..\n",
            "6 downloaded..\n",
            "7 downloaded..\n",
            "8 downloaded..\n",
            "9 downloaded..\n",
            "10 downloaded..\n",
            "11 downloaded..\n",
            "12 downloaded..\n",
            "13 downloaded..\n",
            "14 downloaded..\n",
            "15 downloaded..\n",
            "16 downloaded..\n",
            "17 downloaded..\n",
            "18 downloaded..\n",
            "19 downloaded..\n",
            "20 downloaded..\n",
            "21 downloaded..\n",
            "22 downloaded..\n",
            "23 downloaded..\n",
            "24 downloaded..\n",
            "25 downloaded..\n",
            "26 downloaded..\n",
            "27 downloaded..\n",
            "28 downloaded..\n",
            "29 downloaded..\n",
            "30 downloaded..\n",
            "31 downloaded..\n",
            "32 downloaded..\n",
            "33 downloaded..\n",
            "34 downloaded..\n",
            "35 downloaded..\n",
            "36 downloaded..\n",
            "37 downloaded..\n",
            "38 downloaded..\n",
            "39 downloaded..\n",
            "40 downloaded..\n",
            "41 downloaded..\n",
            "42 downloaded..\n",
            "43 downloaded..\n",
            "44 downloaded..\n",
            "45 downloaded..\n",
            "46 downloaded..\n",
            "47 downloaded..\n",
            "48 downloaded..\n",
            "49 downloaded..\n",
            "50 downloaded..\n",
            "51 downloaded..\n",
            "52 downloaded..\n",
            "53 downloaded..\n",
            "54 downloaded..\n",
            "55 downloaded..\n",
            "56 downloaded..\n",
            "57 downloaded..\n",
            "58 downloaded..\n",
            "59 downloaded..\n",
            "60 downloaded..\n",
            "61 downloaded..\n",
            "62 downloaded..\n",
            "63 downloaded..\n",
            "64 downloaded..\n",
            "65 downloaded..\n",
            "66 downloaded..\n",
            "67 downloaded..\n",
            "68 downloaded..\n",
            "69 downloaded..\n",
            "70 downloaded..\n",
            "71 downloaded..\n",
            "72 downloaded..\n",
            "73 downloaded..\n",
            "74 downloaded..\n",
            "75 downloaded..\n",
            "76 downloaded..\n",
            "77 downloaded..\n",
            "78 downloaded..\n",
            "79 downloaded..\n",
            "80 downloaded..\n",
            "81 downloaded..\n",
            "82 downloaded..\n",
            "83 downloaded..\n",
            "84 downloaded..\n",
            "85 downloaded..\n",
            "86 downloaded..\n",
            "87 downloaded..\n",
            "88 downloaded..\n",
            "89 downloaded..\n",
            "90 downloaded..\n",
            "91 downloaded..\n",
            "92 downloaded..\n",
            "93 downloaded..\n",
            "94 downloaded..\n",
            "95 downloaded..\n",
            "96 downloaded..\n",
            "97 downloaded..\n",
            "98 downloaded..\n",
            "99 downloaded..\n",
            "100 downloaded..\n",
            "101 downloaded..\n",
            "102 downloaded..\n",
            "103 downloaded..\n",
            "104 downloaded..\n",
            "105 downloaded..\n",
            "106 downloaded..\n",
            "107 downloaded..\n",
            "108 downloaded..\n",
            "109 downloaded..\n",
            "110 downloaded..\n",
            "111 downloaded..\n",
            "112 downloaded..\n",
            "113 downloaded..\n",
            "114 downloaded..\n",
            "115 downloaded..\n",
            "116 downloaded..\n",
            "117 downloaded..\n",
            "118 downloaded..\n",
            "119 downloaded..\n",
            "120 downloaded..\n",
            "121 downloaded..\n",
            "122 downloaded..\n",
            "123 downloaded..\n",
            "124 downloaded..\n",
            "125 downloaded..\n",
            "126 downloaded..\n",
            "127 downloaded..\n",
            "128 downloaded..\n",
            "129 downloaded..\n",
            "130 downloaded..\n",
            "131 downloaded..\n",
            "132 downloaded..\n",
            "133 downloaded..\n",
            "134 downloaded..\n",
            "135 downloaded..\n",
            "136 downloaded..\n",
            "137 downloaded..\n",
            "138 downloaded..\n",
            "139 downloaded..\n",
            "140 downloaded..\n",
            "141 downloaded..\n",
            "142 downloaded..\n",
            "143 downloaded..\n",
            "144 downloaded..\n",
            "145 downloaded..\n",
            "146 downloaded..\n",
            "147 downloaded..\n",
            "148 downloaded..\n",
            "149 downloaded..\n",
            "150 downloaded..\n",
            "151 downloaded..\n",
            "152 downloaded..\n",
            "153 downloaded..\n",
            "154 downloaded..\n",
            "155 downloaded..\n",
            "156 downloaded..\n",
            "157 downloaded..\n",
            "158 downloaded..\n",
            "159 downloaded..\n",
            "160 downloaded..\n",
            "161 downloaded..\n",
            "162 downloaded..\n",
            "163 downloaded..\n",
            "164 downloaded..\n",
            "165 downloaded..\n",
            "166 downloaded..\n",
            "167 downloaded..\n",
            "168 downloaded..\n",
            "169 downloaded..\n",
            "170 downloaded..\n",
            "171 downloaded..\n",
            "172 downloaded..\n",
            "173 downloaded..\n",
            "174 downloaded..\n",
            "175 downloaded..\n",
            "176 downloaded..\n",
            "177 downloaded..\n",
            "178 downloaded..\n",
            "179 downloaded..\n",
            "180 downloaded..\n",
            "181 downloaded..\n",
            "182 downloaded..\n",
            "183 downloaded..\n",
            "184 downloaded..\n",
            "185 downloaded..\n",
            "186 downloaded..\n",
            "187 downloaded..\n",
            "188 downloaded..\n",
            "189 downloaded..\n",
            "190 downloaded..\n",
            "191 downloaded..\n",
            "192 downloaded..\n",
            "193 downloaded..\n",
            "194 downloaded..\n",
            "195 downloaded..\n",
            "196 downloaded..\n",
            "197 downloaded..\n",
            "198 downloaded..\n",
            "199 downloaded..\n",
            "200 downloaded..\n",
            "201 downloaded..\n",
            "202 downloaded..\n",
            "203 downloaded..\n",
            "204 downloaded..\n",
            "205 downloaded..\n",
            "206 downloaded..\n",
            "207 downloaded..\n",
            "208 downloaded..\n",
            "209 downloaded..\n",
            "210 downloaded..\n",
            "211 downloaded..\n",
            "212 downloaded..\n",
            "213 downloaded..\n",
            "214 downloaded..\n",
            "215 downloaded..\n",
            "216 downloaded..\n",
            "217 downloaded..\n",
            "218 downloaded..\n",
            "219 downloaded..\n",
            "220 downloaded..\n",
            "221 downloaded..\n",
            "222 downloaded..\n",
            "223 downloaded..\n",
            "224 downloaded..\n",
            "225 downloaded..\n",
            "226 downloaded..\n",
            "227 downloaded..\n",
            "228 downloaded..\n",
            "229 downloaded..\n",
            "230 downloaded..\n",
            "231 downloaded..\n",
            "232 downloaded..\n",
            "233 downloaded..\n",
            "234 downloaded..\n",
            "235 downloaded..\n",
            "236 downloaded..\n",
            "237 downloaded..\n",
            "238 downloaded..\n",
            "239 downloaded..\n",
            "240 downloaded..\n",
            "241 downloaded..\n",
            "242 downloaded..\n",
            "243 downloaded..\n",
            "244 downloaded..\n",
            "245 downloaded..\n",
            "246 downloaded..\n",
            "247 downloaded..\n",
            "248 downloaded..\n",
            "249 downloaded..\n",
            "250 downloaded..\n",
            "251 downloaded..\n",
            "252 downloaded..\n",
            "253 downloaded..\n",
            "254 downloaded..\n",
            "255 downloaded..\n",
            "256 downloaded..\n",
            "257 downloaded..\n",
            "258 downloaded..\n",
            "259 downloaded..\n",
            "260 downloaded..\n",
            "261 downloaded..\n",
            "262 downloaded..\n",
            "263 downloaded..\n",
            "264 downloaded..\n",
            "265 downloaded..\n",
            "266 downloaded..\n",
            "267 downloaded..\n",
            "268 downloaded..\n",
            "269 downloaded..\n",
            "270 downloaded..\n",
            "271 downloaded..\n",
            "272 downloaded..\n",
            "273 downloaded..\n",
            "274 downloaded..\n",
            "275 downloaded..\n",
            "276 downloaded..\n",
            "277 downloaded..\n",
            "278 downloaded..\n",
            "279 downloaded..\n",
            "280 downloaded..\n",
            "281 downloaded..\n",
            "282 downloaded..\n",
            "283 downloaded..\n",
            "284 downloaded..\n",
            "285 downloaded..\n",
            "286 downloaded..\n",
            "287 downloaded..\n",
            "288 downloaded..\n",
            "289 downloaded..\n",
            "290 downloaded..\n",
            "291 downloaded..\n",
            "292 downloaded..\n",
            "293 downloaded..\n",
            "294 downloaded..\n",
            "295 downloaded..\n",
            "296 downloaded..\n",
            "297 downloaded..\n",
            "298 downloaded..\n",
            "299 downloaded..\n",
            "300 downloaded..\n",
            "301 downloaded..\n",
            "302 downloaded..\n",
            "303 downloaded..\n",
            "304 downloaded..\n",
            "305 downloaded..\n",
            "306 downloaded..\n",
            "307 downloaded..\n",
            "308 downloaded..\n",
            "309 downloaded..\n",
            "310 downloaded..\n",
            "311 downloaded..\n",
            "312 downloaded..\n",
            "313 downloaded..\n",
            "314 downloaded..\n",
            "315 downloaded..\n",
            "316 downloaded..\n",
            "317 downloaded..\n",
            "318 downloaded..\n",
            "319 downloaded..\n",
            "320 downloaded..\n",
            "321 downloaded..\n",
            "322 downloaded..\n",
            "323 downloaded..\n",
            "324 downloaded..\n",
            "325 downloaded..\n",
            "326 downloaded..\n",
            "327 downloaded..\n",
            "328 downloaded..\n",
            "329 downloaded..\n",
            "330 downloaded..\n",
            "331 downloaded..\n",
            "332 downloaded..\n",
            "333 downloaded..\n",
            "334 downloaded..\n",
            "335 downloaded..\n",
            "336 downloaded..\n",
            "337 downloaded..\n",
            "338 downloaded..\n",
            "339 downloaded..\n",
            "340 downloaded..\n",
            "341 downloaded..\n",
            "342 downloaded..\n",
            "343 downloaded..\n",
            "344 downloaded..\n",
            "345 downloaded..\n",
            "346 downloaded..\n",
            "347 downloaded..\n",
            "348 downloaded..\n",
            "349 downloaded..\n",
            "350 downloaded..\n",
            "351 downloaded..\n",
            "352 downloaded..\n",
            "353 downloaded..\n",
            "354 downloaded..\n",
            "355 downloaded..\n",
            "356 downloaded..\n",
            "357 downloaded..\n",
            "358 downloaded..\n",
            "359 downloaded..\n",
            "360 downloaded..\n",
            "361 downloaded..\n",
            "362 downloaded..\n",
            "363 downloaded..\n",
            "364 downloaded..\n",
            "365 downloaded..\n",
            "366 downloaded..\n",
            "367 downloaded..\n",
            "368 downloaded..\n",
            "369 downloaded..\n",
            "370 downloaded..\n",
            "371 downloaded..\n",
            "372 downloaded..\n"
          ],
          "name": "stdout"
        }
      ]
    },
    {
      "cell_type": "code",
      "metadata": {
        "id": "uv3V2loILLVl"
      },
      "source": [
        "\n",
        "# Create json file\n",
        "import json \n",
        "\n",
        "with open('cow.json','w') as f:\n",
        "  json.dump(ann_file,f)"
      ],
      "execution_count": 13,
      "outputs": []
    },
    {
      "cell_type": "code",
      "metadata": {
        "id": "z6wJAp6cKauo"
      },
      "source": [
        "#!mkdir /content/drive/MyDrive/cow_COCO\n",
        "!cp -r /content/gdrive/MyDrive/annotation/images/ /content/gdrive/MyDrive/cow_COCO/Images/\n",
        "!cp /content/gdrive/MyDrive/cow.json /content/gdrive/MyDrive/cow_COCO/"
      ],
      "execution_count": 17,
      "outputs": []
    },
    {
      "cell_type": "code",
      "metadata": {
        "colab": {
          "base_uri": "https://localhost:8080/"
        },
        "id": "7SN0R04TKRvv",
        "outputId": "06c7da05-f2c5-4eba-b6c2-5b59fbaf7e77"
      },
      "source": [
        "\n",
        "import os\n",
        "list = os.listdir('/content/gdrive/MyDrive/annotation/images')\n",
        "number_files = len(list)\n",
        "print('Total images in dataset : ' + str(number_files))"
      ],
      "execution_count": 18,
      "outputs": [
        {
          "output_type": "stream",
          "text": [
            "Total images in dataset : 87\n"
          ],
          "name": "stdout"
        }
      ]
    },
    {
      "cell_type": "code",
      "metadata": {
        "colab": {
          "base_uri": "https://localhost:8080/"
        },
        "id": "RFxdvIkOS7Ga",
        "outputId": "7e05a355-5db6-4696-d83e-d506148ba8c3"
      },
      "source": [
        "# check annotations files\n",
        "j =0\n",
        "for i,im in enumerate(images[:1]):\n",
        "  \n",
        "  for an in annot:\n",
        "    if an['image_id'] == im['id']:\n",
        "      print(j)\n",
        "      print(an)\n",
        "      j += 1"
      ],
      "execution_count": 19,
      "outputs": [
        {
          "output_type": "stream",
          "text": [
            "0\n",
            "{'segmentation': [[301.68, 159.23, 305.5, 157.32, 308.37, 159.23, 313.15, 160.18, 320.79, 157.32, 323.65, 159.23, 328.43, 163.05, 329.38, 176.42, 328.43, 180.24, 326.52, 184.06, 323.65, 184.06, 323.65, 172.6, 320.79, 172.6, 313.15, 173.56, 316.97, 182.15, 310.28, 181.2, 309.32, 171.65, 305.5, 169.73, 302.64, 159.23]], 'area': 422.9528500000006, 'iscrowd': 0, 'image_id': 435206, 'bbox': [301.68, 157.32, 27.7, 26.74], 'category_id': 21, 'id': 73046}\n",
            "1\n",
            "{'segmentation': [[435.43, 148.75, 437.85, 151.83, 439.28, 156.24, 438.95, 159.1, 439.83, 159.65, 439.94, 161.52, 438.51, 161.74, 437.85, 159.43, 437.52, 156.24, 436.97, 155.14, 436.09, 160.64, 435.76, 166.15, 434.33, 165.93, 434.11, 160.53, 433.89, 159.1, 432.57, 160.31, 432.46, 165.82, 430.7, 165.27, 431.58, 161.08, 431.03, 159.21, 429.7, 160.64, 429.7, 165.38, 428.93, 165.6, 428.05, 164.28, 428.27, 158.66, 426.62, 155.25, 426.95, 151.28, 428.27, 149.3, 431.8, 147.21, 434.0, 147.65]], 'area': 151.09499999999977, 'iscrowd': 0, 'image_id': 435206, 'bbox': [426.62, 147.21, 13.32, 18.94], 'category_id': 21, 'id': 75175}\n",
            "2\n",
            "{'segmentation': [[345.31, 147.01, 348.64, 147.24, 351.63, 146.54, 357.04, 146.77, 360.03, 146.89, 360.03, 151.84, 359.11, 153.45, 361.3, 156.55, 361.53, 163.11, 359.69, 163.11, 359.92, 161.73, 358.42, 157.25, 357.5, 154.71, 357.27, 159.55, 356.35, 162.19, 354.17, 162.31, 353.71, 161.39, 354.86, 159.43, 354.63, 154.6, 348.99, 155.06, 348.99, 163.0, 346.92, 162.31, 346.69, 157.71, 344.16, 157.25, 342.66, 155.86, 341.51, 158.05, 339.21, 157.94, 339.44, 156.09, 338.63, 153.45, 339.09, 151.49, 341.16, 150.11, 342.54, 150.11, 344.04, 147.58, 344.39, 147.12]], 'area': 225.6599999999997, 'iscrowd': 0, 'image_id': 435206, 'bbox': [338.63, 146.54, 22.9, 16.57], 'category_id': 21, 'id': 278086}\n",
            "3\n",
            "{'segmentation': [[357.97, 143.81, 354.94, 141.28, 353.17, 141.53, 352.66, 140.27, 353.67, 138.75, 353.42, 137.23, 355.19, 137.74, 360.76, 137.99, 364.04, 137.23, 364.8, 137.74, 365.82, 138.75, 365.82, 140.02, 366.07, 145.08, 363.79, 142.04, 361.51, 142.29, 359.24, 143.31, 358.98, 146.34, 357.97, 146.09]], 'area': 64.83694999999975, 'iscrowd': 0, 'image_id': 435206, 'bbox': [352.66, 137.23, 13.41, 9.11], 'category_id': 21, 'id': 278224}\n",
            "4\n",
            "{'segmentation': [[366.53, 135.63, 368.3, 135.78, 369.19, 135.78, 370.51, 136.07, 372.29, 136.07, 374.06, 135.78, 375.54, 135.63, 377.9, 135.33, 379.97, 135.48, 381.59, 135.93, 382.18, 136.37, 382.18, 137.4, 382.33, 140.65, 382.48, 141.09, 382.48, 143.6, 382.18, 145.23, 379.23, 143.9, 378.49, 141.83, 377.75, 141.39, 374.8, 142.42, 374.06, 142.57, 372.88, 143.6, 371.4, 145.52, 369.63, 145.23, 368.74, 140.8, 368.74, 140.65, 367.86, 140.06, 365.94, 139.91, 365.79, 138.44, 365.94, 137.4, 365.94, 136.07]], 'area': 117.80104999999989, 'iscrowd': 0, 'image_id': 435206, 'bbox': [365.79, 135.33, 16.69, 10.19], 'category_id': 21, 'id': 278771}\n",
            "5\n",
            "{'segmentation': [[317.0, 151.14, 321.47, 153.05, 323.27, 154.9, 325.78, 156.1, 328.89, 155.56, 333.31, 155.56, 335.71, 156.38, 338.28, 156.16, 339.2, 155.12, 338.49, 152.94, 338.66, 151.47, 332.88, 146.23, 323.27, 146.12, 316.57, 146.39]], 'area': 174.14110000000014, 'iscrowd': 0, 'image_id': 435206, 'bbox': [316.57, 146.12, 22.63, 10.26], 'category_id': 21, 'id': 369731}\n",
            "6\n",
            "{'segmentation': [[451.03, 149.02, 459.54, 148.85, 457.37, 146.51, 453.2, 144.51, 451.36, 144.18, 450.19, 145.01, 449.86, 147.35, 449.86, 149.18]], 'area': 31.631200000000064, 'iscrowd': 0, 'image_id': 435206, 'bbox': [449.86, 144.18, 9.68, 5.0], 'category_id': 21, 'id': 369884}\n",
            "7\n",
            "{'segmentation': [[298.29, 142.98, 294.55, 147.55, 296.94, 152.12, 298.29, 157.0, 300.58, 157.1, 302.86, 155.23, 303.8, 152.74, 304.84, 150.46, 304.73, 145.36, 300.68, 142.14]], 'area': 102.40514999999992, 'iscrowd': 0, 'image_id': 435206, 'bbox': [294.55, 142.14, 10.29, 14.96], 'category_id': 21, 'id': 1819537}\n",
            "8\n",
            "{'segmentation': [[241.36, 160.35, 239.17, 158.16, 239.8, 157.07, 240.72, 155.42, 239.99, 152.78, 240.35, 151.04, 243.54, 149.4, 248.47, 148.4, 253.12, 149.4, 255.77, 151.23, 256.13, 152.41, 254.77, 153.78, 251.76, 154.15, 249.75, 155.97, 247.38, 156.34, 245.73, 155.7, 244.46, 154.97, 242.18, 157.8, 241.45, 159.53]], 'area': 99.76535, 'iscrowd': 0, 'image_id': 435206, 'bbox': [239.17, 148.4, 16.96, 11.95], 'category_id': 21, 'id': 2069588}\n"
          ],
          "name": "stdout"
        }
      ]
    },
    {
      "cell_type": "code",
      "metadata": {
        "id": "7f9BCdPgS7UO"
      },
      "source": [
        ""
      ],
      "execution_count": null,
      "outputs": []
    }
  ]
}