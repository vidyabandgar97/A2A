{
  "nbformat": 4,
  "nbformat_minor": 0,
  "metadata": {
    "colab": {
      "name": "dog_13.07.ipynb",
      "provenance": [],
      "authorship_tag": "ABX9TyMY8JeWTXIzmmytHCWXvfv6",
      "include_colab_link": true
    },
    "kernelspec": {
      "name": "python3",
      "display_name": "Python 3"
    },
    "language_info": {
      "name": "python"
    }
  },
  "cells": [
    {
      "cell_type": "markdown",
      "metadata": {
        "id": "view-in-github",
        "colab_type": "text"
      },
      "source": [
        "<a href=\"https://colab.research.google.com/github/vidyabandgar97/A2A/blob/main/dog_13_07.ipynb\" target=\"_parent\"><img src=\"https://colab.research.google.com/assets/colab-badge.svg\" alt=\"Open In Colab\"/></a>"
      ]
    },
    {
      "cell_type": "code",
      "metadata": {
        "colab": {
          "base_uri": "https://localhost:8080/"
        },
        "id": "BrPN9J7ZPq0i",
        "outputId": "3b1c445f-81a7-4dde-bb5d-3124b8667475"
      },
      "source": [
        "%cd ..\n",
        "from google.colab import drive\n",
        "drive.mount('/content/gdrive')"
      ],
      "execution_count": 1,
      "outputs": [
        {
          "output_type": "stream",
          "text": [
            "/\n",
            "Mounted at /content/gdrive\n"
          ],
          "name": "stdout"
        }
      ]
    },
    {
      "cell_type": "code",
      "metadata": {
        "colab": {
          "base_uri": "https://localhost:8080/"
        },
        "id": "T5iH1b8IPzt0",
        "outputId": "1d1bdd04-b3b0-4d6b-9141-e2c6fe9114a5"
      },
      "source": [
        "!pip install pycocotools"
      ],
      "execution_count": 2,
      "outputs": [
        {
          "output_type": "stream",
          "text": [
            "Requirement already satisfied: pycocotools in /usr/local/lib/python3.7/dist-packages (2.0.2)\n",
            "Requirement already satisfied: cython>=0.27.3 in /usr/local/lib/python3.7/dist-packages (from pycocotools) (0.29.23)\n",
            "Requirement already satisfied: setuptools>=18.0 in /usr/local/lib/python3.7/dist-packages (from pycocotools) (57.0.0)\n",
            "Requirement already satisfied: matplotlib>=2.1.0 in /usr/local/lib/python3.7/dist-packages (from pycocotools) (3.2.2)\n",
            "Requirement already satisfied: python-dateutil>=2.1 in /usr/local/lib/python3.7/dist-packages (from matplotlib>=2.1.0->pycocotools) (2.8.1)\n",
            "Requirement already satisfied: numpy>=1.11 in /usr/local/lib/python3.7/dist-packages (from matplotlib>=2.1.0->pycocotools) (1.19.5)\n",
            "Requirement already satisfied: kiwisolver>=1.0.1 in /usr/local/lib/python3.7/dist-packages (from matplotlib>=2.1.0->pycocotools) (1.3.1)\n",
            "Requirement already satisfied: cycler>=0.10 in /usr/local/lib/python3.7/dist-packages (from matplotlib>=2.1.0->pycocotools) (0.10.0)\n",
            "Requirement already satisfied: pyparsing!=2.0.4,!=2.1.2,!=2.1.6,>=2.0.1 in /usr/local/lib/python3.7/dist-packages (from matplotlib>=2.1.0->pycocotools) (2.4.7)\n",
            "Requirement already satisfied: six>=1.5 in /usr/local/lib/python3.7/dist-packages (from python-dateutil>=2.1->matplotlib>=2.1.0->pycocotools) (1.15.0)\n"
          ],
          "name": "stdout"
        }
      ]
    },
    {
      "cell_type": "code",
      "metadata": {
        "colab": {
          "base_uri": "https://localhost:8080/"
        },
        "id": "GeRgHK7xPzxT",
        "outputId": "75744eec-78b4-4cc8-bc24-d8a9ca438464"
      },
      "source": [
        "!wget http://images.cocodataset.org/annotations/annotations_trainval2017.zip"
      ],
      "execution_count": 3,
      "outputs": [
        {
          "output_type": "stream",
          "text": [
            "--2021-07-13 09:44:21--  http://images.cocodataset.org/annotations/annotations_trainval2017.zip\n",
            "Resolving images.cocodataset.org (images.cocodataset.org)... 52.217.141.105\n",
            "Connecting to images.cocodataset.org (images.cocodataset.org)|52.217.141.105|:80... connected.\n",
            "HTTP request sent, awaiting response... 200 OK\n",
            "Length: 252907541 (241M) [application/zip]\n",
            "Saving to: ‘annotations_trainval2017.zip’\n",
            "\n",
            "annotations_trainva 100%[===================>] 241.19M  55.0MB/s    in 5.0s    \n",
            "\n",
            "2021-07-13 09:44:26 (48.1 MB/s) - ‘annotations_trainval2017.zip’ saved [252907541/252907541]\n",
            "\n"
          ],
          "name": "stdout"
        }
      ]
    },
    {
      "cell_type": "code",
      "metadata": {
        "colab": {
          "base_uri": "https://localhost:8080/"
        },
        "id": "LfXXDl3pPz0n",
        "outputId": "ea621491-4b04-4340-8868-39de0a6a0d88"
      },
      "source": [
        "!unzip /content/annotations_trainval2017.zip"
      ],
      "execution_count": 4,
      "outputs": [
        {
          "output_type": "stream",
          "text": [
            "Archive:  /content/annotations_trainval2017.zip\n",
            "  inflating: annotations/instances_train2017.json  \n",
            "  inflating: annotations/instances_val2017.json  \n",
            "  inflating: annotations/captions_train2017.json  \n",
            "  inflating: annotations/captions_val2017.json  \n",
            "  inflating: annotations/person_keypoints_train2017.json  \n",
            "  inflating: annotations/person_keypoints_val2017.json  \n"
          ],
          "name": "stdout"
        }
      ]
    },
    {
      "cell_type": "code",
      "metadata": {
        "colab": {
          "base_uri": "https://localhost:8080/"
        },
        "id": "ASG3AyBWPz4D",
        "outputId": "e45b2852-0476-4674-90c0-87a90ffe7bf4"
      },
      "source": [
        "\n",
        "from pycocotools.coco import COCO\n",
        "import requests\n",
        "\n",
        "\n",
        "coco = COCO('/content/annotations/instances_val2017.json')\n",
        "catIds = coco.getCatIds(catNms=['dog'])\n",
        "imgIds = coco.getImgIds(catIds=catIds)\n",
        "images = coco.loadImgs(imgIds)\n",
        "annIds = coco.getAnnIds(catIds = catIds,iscrowd=0)\n",
        "annot = coco.loadAnns(annIds)"
      ],
      "execution_count": 7,
      "outputs": [
        {
          "output_type": "stream",
          "text": [
            "loading annotations into memory...\n",
            "Done (t=0.86s)\n",
            "creating index...\n",
            "index created!\n"
          ],
          "name": "stdout"
        }
      ]
    },
    {
      "cell_type": "code",
      "metadata": {
        "colab": {
          "base_uri": "https://localhost:8080/"
        },
        "id": "8Ci8t3WGPz65",
        "outputId": "1f09da51-e6e7-4fae-fc70-0ef567bc550c"
      },
      "source": [
        "!mkdir /content/images/\n",
        "ann_file = {}\n",
        "ann_file['images'] = []\n",
        "ann_file['annotations'] = []\n",
        "i = 1\n",
        "count = 500\n",
        "for im in images[:count]:\n",
        "    img_data = requests.get(im['coco_url']).content\n",
        "    with open('/content/images/' + im['file_name'], 'wb') as handler:\n",
        "        handler.write(img_data)\n",
        "    ann_file['images'].append(im)\n",
        "    for an in annot:\n",
        "      if an['image_id'] == im['id']:\n",
        "        ann_file['annotations'].append(an)\n",
        "        print('{} handled..'.format(i))\n",
        "        i +=1\n",
        "        if i == 500:\n",
        "          break\n",
        "    if i==500:\n",
        "      break"
      ],
      "execution_count": 8,
      "outputs": [
        {
          "output_type": "stream",
          "text": [
            "1 handled..\n",
            "2 handled..\n",
            "3 handled..\n",
            "4 handled..\n",
            "5 handled..\n",
            "6 handled..\n",
            "7 handled..\n",
            "8 handled..\n",
            "9 handled..\n",
            "10 handled..\n",
            "11 handled..\n",
            "12 handled..\n",
            "13 handled..\n",
            "14 handled..\n",
            "15 handled..\n",
            "16 handled..\n",
            "17 handled..\n",
            "18 handled..\n",
            "19 handled..\n",
            "20 handled..\n",
            "21 handled..\n",
            "22 handled..\n",
            "23 handled..\n",
            "24 handled..\n",
            "25 handled..\n",
            "26 handled..\n",
            "27 handled..\n",
            "28 handled..\n",
            "29 handled..\n",
            "30 handled..\n",
            "31 handled..\n",
            "32 handled..\n",
            "33 handled..\n",
            "34 handled..\n",
            "35 handled..\n",
            "36 handled..\n",
            "37 handled..\n",
            "38 handled..\n",
            "39 handled..\n",
            "40 handled..\n",
            "41 handled..\n",
            "42 handled..\n",
            "43 handled..\n",
            "44 handled..\n",
            "45 handled..\n",
            "46 handled..\n",
            "47 handled..\n",
            "48 handled..\n",
            "49 handled..\n",
            "50 handled..\n",
            "51 handled..\n",
            "52 handled..\n",
            "53 handled..\n",
            "54 handled..\n",
            "55 handled..\n",
            "56 handled..\n",
            "57 handled..\n",
            "58 handled..\n",
            "59 handled..\n",
            "60 handled..\n",
            "61 handled..\n",
            "62 handled..\n",
            "63 handled..\n",
            "64 handled..\n",
            "65 handled..\n",
            "66 handled..\n",
            "67 handled..\n",
            "68 handled..\n",
            "69 handled..\n",
            "70 handled..\n",
            "71 handled..\n",
            "72 handled..\n",
            "73 handled..\n",
            "74 handled..\n",
            "75 handled..\n",
            "76 handled..\n",
            "77 handled..\n",
            "78 handled..\n",
            "79 handled..\n",
            "80 handled..\n",
            "81 handled..\n",
            "82 handled..\n",
            "83 handled..\n",
            "84 handled..\n",
            "85 handled..\n",
            "86 handled..\n",
            "87 handled..\n",
            "88 handled..\n",
            "89 handled..\n",
            "90 handled..\n",
            "91 handled..\n",
            "92 handled..\n",
            "93 handled..\n",
            "94 handled..\n",
            "95 handled..\n",
            "96 handled..\n",
            "97 handled..\n",
            "98 handled..\n",
            "99 handled..\n",
            "100 handled..\n",
            "101 handled..\n",
            "102 handled..\n",
            "103 handled..\n",
            "104 handled..\n",
            "105 handled..\n",
            "106 handled..\n",
            "107 handled..\n",
            "108 handled..\n",
            "109 handled..\n",
            "110 handled..\n",
            "111 handled..\n",
            "112 handled..\n",
            "113 handled..\n",
            "114 handled..\n",
            "115 handled..\n",
            "116 handled..\n",
            "117 handled..\n",
            "118 handled..\n",
            "119 handled..\n",
            "120 handled..\n",
            "121 handled..\n",
            "122 handled..\n",
            "123 handled..\n",
            "124 handled..\n",
            "125 handled..\n",
            "126 handled..\n",
            "127 handled..\n",
            "128 handled..\n",
            "129 handled..\n",
            "130 handled..\n",
            "131 handled..\n",
            "132 handled..\n",
            "133 handled..\n",
            "134 handled..\n",
            "135 handled..\n",
            "136 handled..\n",
            "137 handled..\n",
            "138 handled..\n",
            "139 handled..\n",
            "140 handled..\n",
            "141 handled..\n",
            "142 handled..\n",
            "143 handled..\n",
            "144 handled..\n",
            "145 handled..\n",
            "146 handled..\n",
            "147 handled..\n",
            "148 handled..\n",
            "149 handled..\n",
            "150 handled..\n",
            "151 handled..\n",
            "152 handled..\n",
            "153 handled..\n",
            "154 handled..\n",
            "155 handled..\n",
            "156 handled..\n",
            "157 handled..\n",
            "158 handled..\n",
            "159 handled..\n",
            "160 handled..\n",
            "161 handled..\n",
            "162 handled..\n",
            "163 handled..\n",
            "164 handled..\n",
            "165 handled..\n",
            "166 handled..\n",
            "167 handled..\n",
            "168 handled..\n",
            "169 handled..\n",
            "170 handled..\n",
            "171 handled..\n",
            "172 handled..\n",
            "173 handled..\n",
            "174 handled..\n",
            "175 handled..\n",
            "176 handled..\n",
            "177 handled..\n",
            "178 handled..\n",
            "179 handled..\n",
            "180 handled..\n",
            "181 handled..\n",
            "182 handled..\n",
            "183 handled..\n",
            "184 handled..\n",
            "185 handled..\n",
            "186 handled..\n",
            "187 handled..\n",
            "188 handled..\n",
            "189 handled..\n",
            "190 handled..\n",
            "191 handled..\n",
            "192 handled..\n",
            "193 handled..\n",
            "194 handled..\n",
            "195 handled..\n",
            "196 handled..\n",
            "197 handled..\n",
            "198 handled..\n",
            "199 handled..\n",
            "200 handled..\n",
            "201 handled..\n",
            "202 handled..\n",
            "203 handled..\n",
            "204 handled..\n",
            "205 handled..\n",
            "206 handled..\n",
            "207 handled..\n",
            "208 handled..\n",
            "209 handled..\n",
            "210 handled..\n",
            "211 handled..\n",
            "212 handled..\n",
            "213 handled..\n",
            "214 handled..\n",
            "215 handled..\n",
            "216 handled..\n",
            "217 handled..\n",
            "218 handled..\n"
          ],
          "name": "stdout"
        }
      ]
    },
    {
      "cell_type": "code",
      "metadata": {
        "id": "-H06_o6lPz-i"
      },
      "source": [
        "# Create json file\n",
        "import json \n",
        "\n",
        "with open('dog.json','w') as f:\n",
        "  json.dump(ann_file,f)"
      ],
      "execution_count": 14,
      "outputs": []
    },
    {
      "cell_type": "code",
      "metadata": {
        "id": "gJtINnr0P0Ba"
      },
      "source": [
        "!mkdir /content/gdrive/MyDrive/COCO_custom_data-dog/"
      ],
      "execution_count": 11,
      "outputs": []
    },
    {
      "cell_type": "code",
      "metadata": {
        "id": "Fqs9Y5yDP0D_"
      },
      "source": [
        "!cp -r /content/images/ /content/gdrive/MyDrive/COCO_custom_data-dog/"
      ],
      "execution_count": 12,
      "outputs": []
    },
    {
      "cell_type": "code",
      "metadata": {
        "id": "xpC0izfkR38M"
      },
      "source": [
        "!cp  /dog.json /content/gdrive/MyDrive/COCO_custom_data-dog/"
      ],
      "execution_count": 15,
      "outputs": []
    },
    {
      "cell_type": "code",
      "metadata": {
        "colab": {
          "base_uri": "https://localhost:8080/"
        },
        "id": "9191RdJHR4FZ",
        "outputId": "9c0a334c-abd7-4ffc-cbe0-fa2b6c4ad119"
      },
      "source": [
        "import os\n",
        "list = os.listdir('/content/images')\n",
        "number_files = len(list)\n",
        "print(number_files)"
      ],
      "execution_count": 16,
      "outputs": [
        {
          "output_type": "stream",
          "text": [
            "177\n"
          ],
          "name": "stdout"
        }
      ]
    }
  ]
}